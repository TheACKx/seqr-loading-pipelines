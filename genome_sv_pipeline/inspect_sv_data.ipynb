{
 "cells": [
  {
   "cell_type": "code",
   "execution_count": 1,
   "metadata": {},
   "outputs": [
    {
     "name": "stderr",
     "output_type": "stream",
     "text": [
      "Running on Apache Spark version 2.4.1\n",
      "SparkUI available at http://wm598-921.fios-router.home:4040\n",
      "Welcome to\n",
      "     __  __     <>__\n",
      "    / /_/ /__  __/ /\n",
      "   / __  / _ `/ / /\n",
      "  /_/ /_/\\_,_/_/_/   version 0.2.33-5d8cae649505\n",
      "LOGGING: writing to /Users/shifa/dev/hail_elasticsearch_pipelines/genome_sv_pipeline/hail-20210330-0920-0.2.33-5d8cae649505.log\n"
     ]
    }
   ],
   "source": [
    "import hail as hl\n",
    "hl.init()"
   ]
  },
  {
   "cell_type": "code",
   "execution_count": 2,
   "metadata": {},
   "outputs": [
    {
     "data": {
      "text/html": [
       "\n",
       "    <div class=\"bk-root\">\n",
       "        <a href=\"https://bokeh.pydata.org\" target=\"_blank\" class=\"bk-logo bk-logo-small bk-logo-notebook\"></a>\n",
       "        <span id=\"1001\">Loading BokehJS ...</span>\n",
       "    </div>"
      ]
     },
     "metadata": {},
     "output_type": "display_data"
    },
    {
     "data": {
      "application/javascript": [
       "\n",
       "(function(root) {\n",
       "  function now() {\n",
       "    return new Date();\n",
       "  }\n",
       "\n",
       "  var force = true;\n",
       "\n",
       "  if (typeof root._bokeh_onload_callbacks === \"undefined\" || force === true) {\n",
       "    root._bokeh_onload_callbacks = [];\n",
       "    root._bokeh_is_loading = undefined;\n",
       "  }\n",
       "\n",
       "  var JS_MIME_TYPE = 'application/javascript';\n",
       "  var HTML_MIME_TYPE = 'text/html';\n",
       "  var EXEC_MIME_TYPE = 'application/vnd.bokehjs_exec.v0+json';\n",
       "  var CLASS_NAME = 'output_bokeh rendered_html';\n",
       "\n",
       "  /**\n",
       "   * Render data to the DOM node\n",
       "   */\n",
       "  function render(props, node) {\n",
       "    var script = document.createElement(\"script\");\n",
       "    node.appendChild(script);\n",
       "  }\n",
       "\n",
       "  /**\n",
       "   * Handle when an output is cleared or removed\n",
       "   */\n",
       "  function handleClearOutput(event, handle) {\n",
       "    var cell = handle.cell;\n",
       "\n",
       "    var id = cell.output_area._bokeh_element_id;\n",
       "    var server_id = cell.output_area._bokeh_server_id;\n",
       "    // Clean up Bokeh references\n",
       "    if (id != null && id in Bokeh.index) {\n",
       "      Bokeh.index[id].model.document.clear();\n",
       "      delete Bokeh.index[id];\n",
       "    }\n",
       "\n",
       "    if (server_id !== undefined) {\n",
       "      // Clean up Bokeh references\n",
       "      var cmd = \"from bokeh.io.state import curstate; print(curstate().uuid_to_server['\" + server_id + \"'].get_sessions()[0].document.roots[0]._id)\";\n",
       "      cell.notebook.kernel.execute(cmd, {\n",
       "        iopub: {\n",
       "          output: function(msg) {\n",
       "            var id = msg.content.text.trim();\n",
       "            if (id in Bokeh.index) {\n",
       "              Bokeh.index[id].model.document.clear();\n",
       "              delete Bokeh.index[id];\n",
       "            }\n",
       "          }\n",
       "        }\n",
       "      });\n",
       "      // Destroy server and session\n",
       "      var cmd = \"import bokeh.io.notebook as ion; ion.destroy_server('\" + server_id + \"')\";\n",
       "      cell.notebook.kernel.execute(cmd);\n",
       "    }\n",
       "  }\n",
       "\n",
       "  /**\n",
       "   * Handle when a new output is added\n",
       "   */\n",
       "  function handleAddOutput(event, handle) {\n",
       "    var output_area = handle.output_area;\n",
       "    var output = handle.output;\n",
       "\n",
       "    // limit handleAddOutput to display_data with EXEC_MIME_TYPE content only\n",
       "    if ((output.output_type != \"display_data\") || (!output.data.hasOwnProperty(EXEC_MIME_TYPE))) {\n",
       "      return\n",
       "    }\n",
       "\n",
       "    var toinsert = output_area.element.find(\".\" + CLASS_NAME.split(' ')[0]);\n",
       "\n",
       "    if (output.metadata[EXEC_MIME_TYPE][\"id\"] !== undefined) {\n",
       "      toinsert[toinsert.length - 1].firstChild.textContent = output.data[JS_MIME_TYPE];\n",
       "      // store reference to embed id on output_area\n",
       "      output_area._bokeh_element_id = output.metadata[EXEC_MIME_TYPE][\"id\"];\n",
       "    }\n",
       "    if (output.metadata[EXEC_MIME_TYPE][\"server_id\"] !== undefined) {\n",
       "      var bk_div = document.createElement(\"div\");\n",
       "      bk_div.innerHTML = output.data[HTML_MIME_TYPE];\n",
       "      var script_attrs = bk_div.children[0].attributes;\n",
       "      for (var i = 0; i < script_attrs.length; i++) {\n",
       "        toinsert[toinsert.length - 1].firstChild.setAttribute(script_attrs[i].name, script_attrs[i].value);\n",
       "      }\n",
       "      // store reference to server id on output_area\n",
       "      output_area._bokeh_server_id = output.metadata[EXEC_MIME_TYPE][\"server_id\"];\n",
       "    }\n",
       "  }\n",
       "\n",
       "  function register_renderer(events, OutputArea) {\n",
       "\n",
       "    function append_mime(data, metadata, element) {\n",
       "      // create a DOM node to render to\n",
       "      var toinsert = this.create_output_subarea(\n",
       "        metadata,\n",
       "        CLASS_NAME,\n",
       "        EXEC_MIME_TYPE\n",
       "      );\n",
       "      this.keyboard_manager.register_events(toinsert);\n",
       "      // Render to node\n",
       "      var props = {data: data, metadata: metadata[EXEC_MIME_TYPE]};\n",
       "      render(props, toinsert[toinsert.length - 1]);\n",
       "      element.append(toinsert);\n",
       "      return toinsert\n",
       "    }\n",
       "\n",
       "    /* Handle when an output is cleared or removed */\n",
       "    events.on('clear_output.CodeCell', handleClearOutput);\n",
       "    events.on('delete.Cell', handleClearOutput);\n",
       "\n",
       "    /* Handle when a new output is added */\n",
       "    events.on('output_added.OutputArea', handleAddOutput);\n",
       "\n",
       "    /**\n",
       "     * Register the mime type and append_mime function with output_area\n",
       "     */\n",
       "    OutputArea.prototype.register_mime_type(EXEC_MIME_TYPE, append_mime, {\n",
       "      /* Is output safe? */\n",
       "      safe: true,\n",
       "      /* Index of renderer in `output_area.display_order` */\n",
       "      index: 0\n",
       "    });\n",
       "  }\n",
       "\n",
       "  // register the mime type if in Jupyter Notebook environment and previously unregistered\n",
       "  if (root.Jupyter !== undefined) {\n",
       "    var events = require('base/js/events');\n",
       "    var OutputArea = require('notebook/js/outputarea').OutputArea;\n",
       "\n",
       "    if (OutputArea.prototype.mime_types().indexOf(EXEC_MIME_TYPE) == -1) {\n",
       "      register_renderer(events, OutputArea);\n",
       "    }\n",
       "  }\n",
       "\n",
       "  \n",
       "  if (typeof (root._bokeh_timeout) === \"undefined\" || force === true) {\n",
       "    root._bokeh_timeout = Date.now() + 5000;\n",
       "    root._bokeh_failed_load = false;\n",
       "  }\n",
       "\n",
       "  var NB_LOAD_WARNING = {'data': {'text/html':\n",
       "     \"<div style='background-color: #fdd'>\\n\"+\n",
       "     \"<p>\\n\"+\n",
       "     \"BokehJS does not appear to have successfully loaded. If loading BokehJS from CDN, this \\n\"+\n",
       "     \"may be due to a slow or bad network connection. Possible fixes:\\n\"+\n",
       "     \"</p>\\n\"+\n",
       "     \"<ul>\\n\"+\n",
       "     \"<li>re-rerun `output_notebook()` to attempt to load from CDN again, or</li>\\n\"+\n",
       "     \"<li>use INLINE resources instead, as so:</li>\\n\"+\n",
       "     \"</ul>\\n\"+\n",
       "     \"<code>\\n\"+\n",
       "     \"from bokeh.resources import INLINE\\n\"+\n",
       "     \"output_notebook(resources=INLINE)\\n\"+\n",
       "     \"</code>\\n\"+\n",
       "     \"</div>\"}};\n",
       "\n",
       "  function display_loaded() {\n",
       "    var el = document.getElementById(\"1001\");\n",
       "    if (el != null) {\n",
       "      el.textContent = \"BokehJS is loading...\";\n",
       "    }\n",
       "    if (root.Bokeh !== undefined) {\n",
       "      if (el != null) {\n",
       "        el.textContent = \"BokehJS \" + root.Bokeh.version + \" successfully loaded.\";\n",
       "      }\n",
       "    } else if (Date.now() < root._bokeh_timeout) {\n",
       "      setTimeout(display_loaded, 100)\n",
       "    }\n",
       "  }\n",
       "\n",
       "\n",
       "  function run_callbacks() {\n",
       "    try {\n",
       "      root._bokeh_onload_callbacks.forEach(function(callback) {\n",
       "        if (callback != null)\n",
       "          callback();\n",
       "      });\n",
       "    } finally {\n",
       "      delete root._bokeh_onload_callbacks\n",
       "    }\n",
       "    console.debug(\"Bokeh: all callbacks have finished\");\n",
       "  }\n",
       "\n",
       "  function load_libs(css_urls, js_urls, callback) {\n",
       "    if (css_urls == null) css_urls = [];\n",
       "    if (js_urls == null) js_urls = [];\n",
       "\n",
       "    root._bokeh_onload_callbacks.push(callback);\n",
       "    if (root._bokeh_is_loading > 0) {\n",
       "      console.debug(\"Bokeh: BokehJS is being loaded, scheduling callback at\", now());\n",
       "      return null;\n",
       "    }\n",
       "    if (js_urls == null || js_urls.length === 0) {\n",
       "      run_callbacks();\n",
       "      return null;\n",
       "    }\n",
       "    console.debug(\"Bokeh: BokehJS not loaded, scheduling load and callback at\", now());\n",
       "    root._bokeh_is_loading = css_urls.length + js_urls.length;\n",
       "\n",
       "    function on_load() {\n",
       "      root._bokeh_is_loading--;\n",
       "      if (root._bokeh_is_loading === 0) {\n",
       "        console.debug(\"Bokeh: all BokehJS libraries/stylesheets loaded\");\n",
       "        run_callbacks()\n",
       "      }\n",
       "    }\n",
       "\n",
       "    function on_error() {\n",
       "      console.error(\"failed to load \" + url);\n",
       "    }\n",
       "\n",
       "    for (var i = 0; i < css_urls.length; i++) {\n",
       "      var url = css_urls[i];\n",
       "      const element = document.createElement(\"link\");\n",
       "      element.onload = on_load;\n",
       "      element.onerror = on_error;\n",
       "      element.rel = \"stylesheet\";\n",
       "      element.type = \"text/css\";\n",
       "      element.href = url;\n",
       "      console.debug(\"Bokeh: injecting link tag for BokehJS stylesheet: \", url);\n",
       "      document.body.appendChild(element);\n",
       "    }\n",
       "\n",
       "    for (var i = 0; i < js_urls.length; i++) {\n",
       "      var url = js_urls[i];\n",
       "      var element = document.createElement('script');\n",
       "      element.onload = on_load;\n",
       "      element.onerror = on_error;\n",
       "      element.async = false;\n",
       "      element.src = url;\n",
       "      console.debug(\"Bokeh: injecting script tag for BokehJS library: \", url);\n",
       "      document.head.appendChild(element);\n",
       "    }\n",
       "  };var element = document.getElementById(\"1001\");\n",
       "  if (element == null) {\n",
       "    console.error(\"Bokeh: ERROR: autoload.js configured with elementid '1001' but no matching script tag was found. \")\n",
       "    return false;\n",
       "  }\n",
       "\n",
       "  function inject_raw_css(css) {\n",
       "    const element = document.createElement(\"style\");\n",
       "    element.appendChild(document.createTextNode(css));\n",
       "    document.body.appendChild(element);\n",
       "  }\n",
       "\n",
       "  var js_urls = [\"https://cdn.pydata.org/bokeh/release/bokeh-1.2.0.min.js\", \"https://cdn.pydata.org/bokeh/release/bokeh-widgets-1.2.0.min.js\", \"https://cdn.pydata.org/bokeh/release/bokeh-tables-1.2.0.min.js\", \"https://cdn.pydata.org/bokeh/release/bokeh-gl-1.2.0.min.js\"];\n",
       "  var css_urls = [\"https://cdn.pydata.org/bokeh/release/bokeh-1.2.0.min.css\", \"https://cdn.pydata.org/bokeh/release/bokeh-widgets-1.2.0.min.css\", \"https://cdn.pydata.org/bokeh/release/bokeh-tables-1.2.0.min.css\"];\n",
       "\n",
       "  var inline_js = [\n",
       "    function(Bokeh) {\n",
       "      Bokeh.set_log_level(\"info\");\n",
       "    },\n",
       "    \n",
       "    function(Bokeh) {\n",
       "      \n",
       "    },\n",
       "    function(Bokeh) {} // ensure no trailing comma for IE\n",
       "  ];\n",
       "\n",
       "  function run_inline_js() {\n",
       "    \n",
       "    if ((root.Bokeh !== undefined) || (force === true)) {\n",
       "      for (var i = 0; i < inline_js.length; i++) {\n",
       "        inline_js[i].call(root, root.Bokeh);\n",
       "      }if (force === true) {\n",
       "        display_loaded();\n",
       "      }} else if (Date.now() < root._bokeh_timeout) {\n",
       "      setTimeout(run_inline_js, 100);\n",
       "    } else if (!root._bokeh_failed_load) {\n",
       "      console.log(\"Bokeh: BokehJS failed to load within specified timeout.\");\n",
       "      root._bokeh_failed_load = true;\n",
       "    } else if (force !== true) {\n",
       "      var cell = $(document.getElementById(\"1001\")).parents('.cell').data().cell;\n",
       "      cell.output_area.append_execute_result(NB_LOAD_WARNING)\n",
       "    }\n",
       "\n",
       "  }\n",
       "\n",
       "  if (root._bokeh_is_loading === 0) {\n",
       "    console.debug(\"Bokeh: BokehJS loaded, going straight to plotting\");\n",
       "    run_inline_js();\n",
       "  } else {\n",
       "    load_libs(css_urls, js_urls, function() {\n",
       "      console.debug(\"Bokeh: BokehJS plotting callback run at\", now());\n",
       "      run_inline_js();\n",
       "    });\n",
       "  }\n",
       "}(window));"
      ],
      "application/vnd.bokehjs_load.v0+json": "\n(function(root) {\n  function now() {\n    return new Date();\n  }\n\n  var force = true;\n\n  if (typeof root._bokeh_onload_callbacks === \"undefined\" || force === true) {\n    root._bokeh_onload_callbacks = [];\n    root._bokeh_is_loading = undefined;\n  }\n\n  \n\n  \n  if (typeof (root._bokeh_timeout) === \"undefined\" || force === true) {\n    root._bokeh_timeout = Date.now() + 5000;\n    root._bokeh_failed_load = false;\n  }\n\n  var NB_LOAD_WARNING = {'data': {'text/html':\n     \"<div style='background-color: #fdd'>\\n\"+\n     \"<p>\\n\"+\n     \"BokehJS does not appear to have successfully loaded. If loading BokehJS from CDN, this \\n\"+\n     \"may be due to a slow or bad network connection. Possible fixes:\\n\"+\n     \"</p>\\n\"+\n     \"<ul>\\n\"+\n     \"<li>re-rerun `output_notebook()` to attempt to load from CDN again, or</li>\\n\"+\n     \"<li>use INLINE resources instead, as so:</li>\\n\"+\n     \"</ul>\\n\"+\n     \"<code>\\n\"+\n     \"from bokeh.resources import INLINE\\n\"+\n     \"output_notebook(resources=INLINE)\\n\"+\n     \"</code>\\n\"+\n     \"</div>\"}};\n\n  function display_loaded() {\n    var el = document.getElementById(\"1001\");\n    if (el != null) {\n      el.textContent = \"BokehJS is loading...\";\n    }\n    if (root.Bokeh !== undefined) {\n      if (el != null) {\n        el.textContent = \"BokehJS \" + root.Bokeh.version + \" successfully loaded.\";\n      }\n    } else if (Date.now() < root._bokeh_timeout) {\n      setTimeout(display_loaded, 100)\n    }\n  }\n\n\n  function run_callbacks() {\n    try {\n      root._bokeh_onload_callbacks.forEach(function(callback) {\n        if (callback != null)\n          callback();\n      });\n    } finally {\n      delete root._bokeh_onload_callbacks\n    }\n    console.debug(\"Bokeh: all callbacks have finished\");\n  }\n\n  function load_libs(css_urls, js_urls, callback) {\n    if (css_urls == null) css_urls = [];\n    if (js_urls == null) js_urls = [];\n\n    root._bokeh_onload_callbacks.push(callback);\n    if (root._bokeh_is_loading > 0) {\n      console.debug(\"Bokeh: BokehJS is being loaded, scheduling callback at\", now());\n      return null;\n    }\n    if (js_urls == null || js_urls.length === 0) {\n      run_callbacks();\n      return null;\n    }\n    console.debug(\"Bokeh: BokehJS not loaded, scheduling load and callback at\", now());\n    root._bokeh_is_loading = css_urls.length + js_urls.length;\n\n    function on_load() {\n      root._bokeh_is_loading--;\n      if (root._bokeh_is_loading === 0) {\n        console.debug(\"Bokeh: all BokehJS libraries/stylesheets loaded\");\n        run_callbacks()\n      }\n    }\n\n    function on_error() {\n      console.error(\"failed to load \" + url);\n    }\n\n    for (var i = 0; i < css_urls.length; i++) {\n      var url = css_urls[i];\n      const element = document.createElement(\"link\");\n      element.onload = on_load;\n      element.onerror = on_error;\n      element.rel = \"stylesheet\";\n      element.type = \"text/css\";\n      element.href = url;\n      console.debug(\"Bokeh: injecting link tag for BokehJS stylesheet: \", url);\n      document.body.appendChild(element);\n    }\n\n    for (var i = 0; i < js_urls.length; i++) {\n      var url = js_urls[i];\n      var element = document.createElement('script');\n      element.onload = on_load;\n      element.onerror = on_error;\n      element.async = false;\n      element.src = url;\n      console.debug(\"Bokeh: injecting script tag for BokehJS library: \", url);\n      document.head.appendChild(element);\n    }\n  };var element = document.getElementById(\"1001\");\n  if (element == null) {\n    console.error(\"Bokeh: ERROR: autoload.js configured with elementid '1001' but no matching script tag was found. \")\n    return false;\n  }\n\n  function inject_raw_css(css) {\n    const element = document.createElement(\"style\");\n    element.appendChild(document.createTextNode(css));\n    document.body.appendChild(element);\n  }\n\n  var js_urls = [\"https://cdn.pydata.org/bokeh/release/bokeh-1.2.0.min.js\", \"https://cdn.pydata.org/bokeh/release/bokeh-widgets-1.2.0.min.js\", \"https://cdn.pydata.org/bokeh/release/bokeh-tables-1.2.0.min.js\", \"https://cdn.pydata.org/bokeh/release/bokeh-gl-1.2.0.min.js\"];\n  var css_urls = [\"https://cdn.pydata.org/bokeh/release/bokeh-1.2.0.min.css\", \"https://cdn.pydata.org/bokeh/release/bokeh-widgets-1.2.0.min.css\", \"https://cdn.pydata.org/bokeh/release/bokeh-tables-1.2.0.min.css\"];\n\n  var inline_js = [\n    function(Bokeh) {\n      Bokeh.set_log_level(\"info\");\n    },\n    \n    function(Bokeh) {\n      \n    },\n    function(Bokeh) {} // ensure no trailing comma for IE\n  ];\n\n  function run_inline_js() {\n    \n    if ((root.Bokeh !== undefined) || (force === true)) {\n      for (var i = 0; i < inline_js.length; i++) {\n        inline_js[i].call(root, root.Bokeh);\n      }if (force === true) {\n        display_loaded();\n      }} else if (Date.now() < root._bokeh_timeout) {\n      setTimeout(run_inline_js, 100);\n    } else if (!root._bokeh_failed_load) {\n      console.log(\"Bokeh: BokehJS failed to load within specified timeout.\");\n      root._bokeh_failed_load = true;\n    } else if (force !== true) {\n      var cell = $(document.getElementById(\"1001\")).parents('.cell').data().cell;\n      cell.output_area.append_execute_result(NB_LOAD_WARNING)\n    }\n\n  }\n\n  if (root._bokeh_is_loading === 0) {\n    console.debug(\"Bokeh: BokehJS loaded, going straight to plotting\");\n    run_inline_js();\n  } else {\n    load_libs(css_urls, js_urls, function() {\n      console.debug(\"Bokeh: BokehJS plotting callback run at\", now());\n      run_inline_js();\n    });\n  }\n}(window));"
     },
     "metadata": {},
     "output_type": "display_data"
    }
   ],
   "source": [
    "from hail.plot import show\n",
    "from pprint import pprint\n",
    "hl.plot.output_notebook()"
   ]
  },
  {
   "cell_type": "code",
   "execution_count": 3,
   "metadata": {},
   "outputs": [],
   "source": [
    "# hl.import_vcf('vcf/sv.vcf.gz', force=True, reference_genome='GRCh38').write('vcf/svs.mt', overwrite=True)"
   ]
  },
  {
   "cell_type": "code",
   "execution_count": 4,
   "metadata": {},
   "outputs": [],
   "source": [
    "mt = hl.read_matrix_table('vcf/svs.mt')"
   ]
  },
  {
   "cell_type": "code",
   "execution_count": 5,
   "metadata": {},
   "outputs": [
    {
     "data": {
      "text/plain": [
       "(145568, 714)"
      ]
     },
     "execution_count": 5,
     "metadata": {},
     "output_type": "execute_result"
    }
   ],
   "source": [
    "mt.count()"
   ]
  },
  {
   "cell_type": "code",
   "execution_count": 10,
   "metadata": {},
   "outputs": [],
   "source": [
    "import subprocess\n",
    "GS_SAMPLE_PATH = 'gs://seqr-datasets/v02/GRCh38/RDG_{sample_type}_Broad_Internal/base/projects/{project_guid}/{project_guid}_{file_ext}'\n",
    "def _get_gs_samples(project_guid, file_ext, expected_header, sample_type):\n",
    "    \"\"\"\n",
    "    Get sample metadata from files in google cloud\n",
    "\n",
    "    :param project_guid: seqr project identifier\n",
    "    :param file_ext: extension for the desired sample file\n",
    "    :param expected_header: expected header to validate file\n",
    "    :param sample_type: sample type (WES/WGS)\n",
    "    :return: parsed data from the sample file as a list of lists\n",
    "    \"\"\"\n",
    "    file = GS_SAMPLE_PATH.format(project_guid=project_guid, sample_type=sample_type, file_ext=file_ext)\n",
    "    process = subprocess.Popen(\n",
    "        'gsutil cat {}'.format(file), stdout=subprocess.PIPE, stderr=subprocess.STDOUT, shell=True)\n",
    "    if process.wait() != 0:\n",
    "        return None\n",
    "    header = next(process.stdout).decode('utf-8')\n",
    "    if header.strip() != expected_header:\n",
    "        raise Exception('Missing header for sample file, expected \"{}\" but found {}'.format(\n",
    "            expected_header, header))\n",
    "    return [line.decode('utf-8').strip().split('\\t') for line in process.stdout]\n",
    "\n",
    "\n",
    "def get_sample_subset(project_guid, sample_type):\n",
    "    \"\"\"\n",
    "    Get sample id subset for a given project\n",
    "\n",
    "    :param project_guid: seqr project identifier\n",
    "    :param sample_type: sample type (WES/WGS)\n",
    "    :return: set of sample ids\n",
    "    \"\"\"\n",
    "    subset = _get_gs_samples(project_guid, file_ext='ids.txt', sample_type=sample_type, expected_header='s')\n",
    "    if not subset:\n",
    "        raise Exception('No sample subset file found')\n",
    "    return {row[0] for row in subset}"
   ]
  },
  {
   "cell_type": "markdown",
   "metadata": {},
   "source": [
    "<br/>\n",
    "Subset the samples to the project `R0332_cmg_estonia_wgs`"
   ]
  },
  {
   "cell_type": "code",
   "execution_count": 11,
   "metadata": {},
   "outputs": [
    {
     "name": "stdout",
     "output_type": "stream",
     "text": [
      "61 missing samples and the first 10 of them are: ['HK017-0046', 'OUN_HK132_002_D1', 'HK100-004_D1', 'OUN_HK124_001_D1', 'OUN_HK126_002_D1', 'HK100-002_D1', 'HK035_0089', 'HK060-0154_1', 'OUN_HK131_001_D1', 'OUN_HK126_001_D1']\n"
     ]
    }
   ],
   "source": [
    "sample_subset = get_sample_subset('R0332_cmg_estonia_wgs', 'WGS')\n",
    "subset = hl.literal(sample_subset)\n",
    "mt1 = mt.filter_cols(subset.contains(mt['s']))\n",
    "missing_samples = sample_subset - {col.s for col in mt1.key_cols_by().cols().collect()}\n",
    "print('{} missing samples and the first 10 of them are: {}'.format(len(missing_samples), list(missing_samples)[:10]))"
   ]
  },
  {
   "cell_type": "code",
   "execution_count": 12,
   "metadata": {},
   "outputs": [
    {
     "data": {
      "text/plain": [
       "(67275, 106)"
      ]
     },
     "execution_count": 12,
     "metadata": {},
     "output_type": "execute_result"
    }
   ],
   "source": [
    "samples = hl.agg.filter(mt1.GT.is_non_ref(), hl.agg.collect(hl.struct(id=mt1.s, gq=mt1.GQ, cn=mt1.RD_CN)))\n",
    "mt2a = mt1.annotate_rows(samples=samples)\n",
    "mt2 = mt2a.filter_rows(mt2a.samples != hl.empty_array(hl.dtype('struct{id: str, gq: int32, cn: int32}')))\n",
    "mt2.count()"
   ]
  },
  {
   "cell_type": "code",
   "execution_count": 13,
   "metadata": {},
   "outputs": [
    {
     "name": "stdout",
     "output_type": "stream",
     "text": [
      "1181 different RD_CNs, the counter for the first 10 RD_CNs are: [(0, 51131), (1, 425325), (2, 4177497), (3, 315015), (4, 79143), (5, 32265), (6, 18043), (7, 11620), (8, 7940), (9, 6123)].\n",
      "Total RD_CNs>9: 3797, max RD_CN: 4066\n"
     ]
    }
   ],
   "source": [
    "mtx = mt2.filter_entries(hl.is_defined(mt2.RD_CN))\n",
    "rd_cn_cnt = sorted(mtx.aggregate_entries(hl.agg.counter(mtx.RD_CN)).items())\n",
    "print('{} different RD_CNs, the counter for the first 10 RD_CNs are: {}.'.format(len(rd_cn_cnt), rd_cn_cnt[:10]))\n",
    "print('Total RD_CNs>9: {}, max RD_CN: {}'.format(sum(rd_cn_cnt[10:][1]), rd_cn_cnt[-1][0]))"
   ]
  },
  {
   "cell_type": "markdown",
   "metadata": {},
   "source": [
    "<br/>\n",
    "The distributions of the values of the RD_CNs"
   ]
  },
  {
   "cell_type": "code",
   "execution_count": 14,
   "metadata": {
    "scrolled": false
   },
   "outputs": [
    {
     "data": {
      "text/html": [
       "\n",
       "\n",
       "\n",
       "\n",
       "\n",
       "\n",
       "  <div class=\"bk-root\" id=\"c5c37e5e-b42d-4d2e-be6f-2e1b509397d9\" data-root-id=\"1002\"></div>\n"
      ]
     },
     "metadata": {},
     "output_type": "display_data"
    },
    {
     "data": {
      "application/javascript": [
       "(function(root) {\n",
       "  function embed_document(root) {\n",
       "    \n",
       "  var docs_json = {\"efa71fc2-56e3-43a3-9d07-ef01a1ac2977\":{\"roots\":{\"references\":[{\"attributes\":{\"background_fill_color\":{\"value\":\"#EEEEEE\"},\"below\":[{\"id\":\"1013\",\"type\":\"LinearAxis\"}],\"center\":[{\"id\":\"1017\",\"type\":\"Grid\"},{\"id\":\"1022\",\"type\":\"Grid\"},{\"id\":\"1047\",\"type\":\"Legend\"}],\"left\":[{\"id\":\"1018\",\"type\":\"LinearAxis\"}],\"renderers\":[{\"id\":\"1039\",\"type\":\"GlyphRenderer\"},{\"id\":\"1052\",\"type\":\"GlyphRenderer\"}],\"title\":{\"id\":\"1003\",\"type\":\"Title\"},\"toolbar\":{\"id\":\"1029\",\"type\":\"Toolbar\"},\"x_range\":{\"id\":\"1005\",\"type\":\"Range1d\"},\"x_scale\":{\"id\":\"1009\",\"type\":\"LinearScale\"},\"y_range\":{\"id\":\"1007\",\"type\":\"DataRange1d\"},\"y_scale\":{\"id\":\"1011\",\"type\":\"LinearScale\"}},\"id\":\"1002\",\"subtype\":\"Figure\",\"type\":\"Plot\"},{\"attributes\":{\"axis_label\":\"RD_CN\",\"formatter\":{\"id\":\"1044\",\"type\":\"BasicTickFormatter\"},\"ticker\":{\"id\":\"1014\",\"type\":\"BasicTicker\"}},\"id\":\"1013\",\"type\":\"LinearAxis\"},{\"attributes\":{\"callback\":null,\"data\":{\"left\":[0.0,0.9090909090909091,1.8181818181818181,2.727272727272727,3.6363636363636362,4.545454545454545,5.454545454545454,6.363636363636363,7.2727272727272725,8.181818181818182,9.09090909090909],\"right\":[0.9090909090909091,1.8181818181818181,2.727272727272727,3.6363636363636362,4.545454545454545,5.454545454545454,6.363636363636363,7.2727272727272725,8.181818181818182,9.09090909090909,10.0],\"top\":[51131,425325,4177497,315015,79143,32265,18043,11620,7940,6123,4905]},\"selected\":{\"id\":\"1059\",\"type\":\"Selection\"},\"selection_policy\":{\"id\":\"1060\",\"type\":\"UnionRenderers\"}},\"id\":\"1036\",\"type\":\"ColumnDataSource\"},{\"attributes\":{\"bottom\":{\"value\":0},\"fill_color\":{\"value\":\"green\"},\"left\":{\"value\":10.0},\"right\":{\"value\":10.909090909090908},\"top\":{\"value\":39075}},\"id\":\"1050\",\"type\":\"Quad\"},{\"attributes\":{},\"id\":\"1014\",\"type\":\"BasicTicker\"},{\"attributes\":{\"label\":{\"value\":\"Outliers Above\"},\"renderers\":[{\"id\":\"1052\",\"type\":\"GlyphRenderer\"}]},\"id\":\"1062\",\"type\":\"LegendItem\"},{\"attributes\":{\"callback\":null,\"data\":{},\"selected\":{\"id\":\"1070\",\"type\":\"Selection\"},\"selection_policy\":{\"id\":\"1071\",\"type\":\"UnionRenderers\"}},\"id\":\"1049\",\"type\":\"ColumnDataSource\"},{\"attributes\":{\"label\":{\"value\":\"RD_CN\"},\"renderers\":[{\"id\":\"1039\",\"type\":\"GlyphRenderer\"}]},\"id\":\"1048\",\"type\":\"LegendItem\"},{\"attributes\":{\"axis_label\":\"Frequency\",\"formatter\":{\"id\":\"1042\",\"type\":\"BasicTickFormatter\"},\"ticker\":{\"id\":\"1019\",\"type\":\"BasicTicker\"}},\"id\":\"1018\",\"type\":\"LinearAxis\"},{\"attributes\":{\"source\":{\"id\":\"1049\",\"type\":\"ColumnDataSource\"}},\"id\":\"1053\",\"type\":\"CDSView\"},{\"attributes\":{\"data_source\":{\"id\":\"1049\",\"type\":\"ColumnDataSource\"},\"glyph\":{\"id\":\"1050\",\"type\":\"Quad\"},\"hover_glyph\":null,\"muted_glyph\":null,\"nonselection_glyph\":{\"id\":\"1051\",\"type\":\"Quad\"},\"selection_glyph\":null,\"view\":{\"id\":\"1053\",\"type\":\"CDSView\"}},\"id\":\"1052\",\"type\":\"GlyphRenderer\"},{\"attributes\":{},\"id\":\"1071\",\"type\":\"UnionRenderers\"},{\"attributes\":{},\"id\":\"1009\",\"type\":\"LinearScale\"},{\"attributes\":{\"bottom\":{\"value\":0},\"fill_color\":{\"value\":\"#1f77b4\"},\"left\":{\"field\":\"left\"},\"right\":{\"field\":\"right\"},\"top\":{\"field\":\"top\"}},\"id\":\"1037\",\"type\":\"Quad\"},{\"attributes\":{},\"id\":\"1026\",\"type\":\"SaveTool\"},{\"attributes\":{},\"id\":\"1023\",\"type\":\"PanTool\"},{\"attributes\":{\"bottom_units\":\"screen\",\"fill_alpha\":{\"value\":0.5},\"fill_color\":{\"value\":\"lightgrey\"},\"left_units\":\"screen\",\"level\":\"overlay\",\"line_alpha\":{\"value\":1.0},\"line_color\":{\"value\":\"black\"},\"line_dash\":[4,4],\"line_width\":{\"value\":2},\"render_mode\":\"css\",\"right_units\":\"screen\",\"top_units\":\"screen\"},\"id\":\"1046\",\"type\":\"BoxAnnotation\"},{\"attributes\":{\"overlay\":{\"id\":\"1046\",\"type\":\"BoxAnnotation\"}},\"id\":\"1025\",\"type\":\"BoxZoomTool\"},{\"attributes\":{\"text\":\"RD_CN Histogram\"},\"id\":\"1003\",\"type\":\"Title\"},{\"attributes\":{\"callback\":null,\"end\":10.5,\"start\":-0.5},\"id\":\"1005\",\"type\":\"Range1d\"},{\"attributes\":{\"dimension\":1,\"ticker\":{\"id\":\"1019\",\"type\":\"BasicTicker\"}},\"id\":\"1022\",\"type\":\"Grid\"},{\"attributes\":{},\"id\":\"1028\",\"type\":\"HelpTool\"},{\"attributes\":{},\"id\":\"1024\",\"type\":\"WheelZoomTool\"},{\"attributes\":{\"bottom\":{\"value\":0},\"fill_alpha\":{\"value\":0.1},\"fill_color\":{\"value\":\"#1f77b4\"},\"left\":{\"value\":10.0},\"line_alpha\":{\"value\":0.1},\"line_color\":{\"value\":\"#1f77b4\"},\"right\":{\"value\":10.909090909090908},\"top\":{\"value\":39075}},\"id\":\"1051\",\"type\":\"Quad\"},{\"attributes\":{\"bottom\":{\"value\":0},\"fill_alpha\":{\"value\":0.1},\"fill_color\":{\"value\":\"#1f77b4\"},\"left\":{\"field\":\"left\"},\"line_alpha\":{\"value\":0.1},\"line_color\":{\"value\":\"#1f77b4\"},\"right\":{\"field\":\"right\"},\"top\":{\"field\":\"top\"}},\"id\":\"1038\",\"type\":\"Quad\"},{\"attributes\":{\"data_source\":{\"id\":\"1036\",\"type\":\"ColumnDataSource\"},\"glyph\":{\"id\":\"1037\",\"type\":\"Quad\"},\"hover_glyph\":null,\"muted_glyph\":null,\"nonselection_glyph\":{\"id\":\"1038\",\"type\":\"Quad\"},\"selection_glyph\":null,\"view\":{\"id\":\"1040\",\"type\":\"CDSView\"}},\"id\":\"1039\",\"type\":\"GlyphRenderer\"},{\"attributes\":{},\"id\":\"1042\",\"type\":\"BasicTickFormatter\"},{\"attributes\":{\"items\":[{\"id\":\"1048\",\"type\":\"LegendItem\"},{\"id\":\"1062\",\"type\":\"LegendItem\"}]},\"id\":\"1047\",\"type\":\"Legend\"},{\"attributes\":{},\"id\":\"1011\",\"type\":\"LinearScale\"},{\"attributes\":{},\"id\":\"1059\",\"type\":\"Selection\"},{\"attributes\":{\"ticker\":{\"id\":\"1014\",\"type\":\"BasicTicker\"}},\"id\":\"1017\",\"type\":\"Grid\"},{\"attributes\":{\"active_drag\":\"auto\",\"active_inspect\":\"auto\",\"active_multi\":null,\"active_scroll\":\"auto\",\"active_tap\":\"auto\",\"tools\":[{\"id\":\"1023\",\"type\":\"PanTool\"},{\"id\":\"1024\",\"type\":\"WheelZoomTool\"},{\"id\":\"1025\",\"type\":\"BoxZoomTool\"},{\"id\":\"1026\",\"type\":\"SaveTool\"},{\"id\":\"1027\",\"type\":\"ResetTool\"},{\"id\":\"1028\",\"type\":\"HelpTool\"}]},\"id\":\"1029\",\"type\":\"Toolbar\"},{\"attributes\":{},\"id\":\"1060\",\"type\":\"UnionRenderers\"},{\"attributes\":{\"source\":{\"id\":\"1036\",\"type\":\"ColumnDataSource\"}},\"id\":\"1040\",\"type\":\"CDSView\"},{\"attributes\":{},\"id\":\"1070\",\"type\":\"Selection\"},{\"attributes\":{},\"id\":\"1027\",\"type\":\"ResetTool\"},{\"attributes\":{},\"id\":\"1019\",\"type\":\"BasicTicker\"},{\"attributes\":{\"callback\":null},\"id\":\"1007\",\"type\":\"DataRange1d\"},{\"attributes\":{},\"id\":\"1044\",\"type\":\"BasicTickFormatter\"}],\"root_ids\":[\"1002\"]},\"title\":\"Bokeh Application\",\"version\":\"1.2.0\"}};\n",
       "  var render_items = [{\"docid\":\"efa71fc2-56e3-43a3-9d07-ef01a1ac2977\",\"roots\":{\"1002\":\"c5c37e5e-b42d-4d2e-be6f-2e1b509397d9\"}}];\n",
       "  root.Bokeh.embed.embed_items_notebook(docs_json, render_items);\n",
       "\n",
       "  }\n",
       "  if (root.Bokeh !== undefined) {\n",
       "    embed_document(root);\n",
       "  } else {\n",
       "    var attempts = 0;\n",
       "    var timer = setInterval(function(root) {\n",
       "      if (root.Bokeh !== undefined) {\n",
       "        embed_document(root);\n",
       "        clearInterval(timer);\n",
       "      }\n",
       "      attempts++;\n",
       "      if (attempts > 100) {\n",
       "        console.log(\"Bokeh: ERROR: Unable to run BokehJS code because BokehJS library is missing\");\n",
       "        clearInterval(timer);\n",
       "      }\n",
       "    }, 10, root)\n",
       "  }\n",
       "})(window);"
      ],
      "application/vnd.bokehjs_exec.v0+json": ""
     },
     "metadata": {
      "application/vnd.bokehjs_exec.v0+json": {
       "id": "1002"
      }
     },
     "output_type": "display_data"
    }
   ],
   "source": [
    "dp_hist = mt2.aggregate_entries(hl.expr.aggregators.hist(mt2.RD_CN, start=0, end=10, bins=11))\n",
    "p = hl.plot.histogram(dp_hist, legend='RD_CN', title='RD_CN Histogram')\n",
    "show(p)"
   ]
  },
  {
   "cell_type": "markdown",
   "metadata": {},
   "source": [
    "<br/>\n",
    "Statistics for differet GT values"
   ]
  },
  {
   "cell_type": "code",
   "execution_count": 15,
   "metadata": {},
   "outputs": [
    {
     "data": {
      "text/plain": [
       "{Call(alleles=[0, 0], phased=False): 6033770,\n",
       " Call(alleles=[0, 1], phased=False): 932341,\n",
       " Call(alleles=[1, 1], phased=False): 157472,\n",
       " None: 7567}"
      ]
     },
     "execution_count": 15,
     "metadata": {},
     "output_type": "execute_result"
    }
   ],
   "source": [
    "mt2.aggregate_entries(hl.agg.counter(mt2.GT))"
   ]
  },
  {
   "cell_type": "markdown",
   "metadata": {},
   "source": [
    "<br/>\n",
    "RD_CN distributions for different GTs:"
   ]
  },
  {
   "cell_type": "code",
   "execution_count": 16,
   "metadata": {
    "scrolled": false
   },
   "outputs": [
    {
     "name": "stdout",
     "output_type": "stream",
     "text": [
      "GT0_RD_CN: [(-1, 660908), (0, 8490), (1, 223817), (2, 3953419), (3, 199083), (4, 43557), (5, 20124), (6, 12082), (7, 7929), (8, 5431), (9, 4435), ('>9', 2885)]\n",
      "GT1_RD_CN: [(-1, 4624911), (0, 14630), (1, 166020), (2, 206596), (3, 108528), (4, 22531), (5, 7503), (6, 3832), (7, 2535), (8, 1809), (9, 1244), ('>9', 668)]\n",
      "GT2_RD_CN: [(-1, 5050345), (0, 28011), (1, 35488), (2, 17482), (3, 7404), (4, 13055), (5, 4638), (6, 2129), (7, 1156), (8, 700), (9, 444), ('>9', 266)]\n"
     ]
    },
    {
     "data": {
      "text/html": [
       "\n",
       "\n",
       "\n",
       "\n",
       "\n",
       "\n",
       "  <div class=\"bk-root\" id=\"20c01866-bee7-48f0-8938-54e04d78d39a\" data-root-id=\"1133\"></div>\n"
      ]
     },
     "metadata": {},
     "output_type": "display_data"
    },
    {
     "data": {
      "application/javascript": [
       "(function(root) {\n",
       "  function embed_document(root) {\n",
       "    \n",
       "  var docs_json = {\"e19e7727-56fe-4fbf-b700-b95994e798e4\":{\"roots\":{\"references\":[{\"attributes\":{\"background_fill_color\":{\"value\":\"#EEEEEE\"},\"below\":[{\"id\":\"1144\",\"type\":\"LinearAxis\"}],\"center\":[{\"id\":\"1148\",\"type\":\"Grid\"},{\"id\":\"1153\",\"type\":\"Grid\"},{\"id\":\"1178\",\"type\":\"Legend\"}],\"left\":[{\"id\":\"1149\",\"type\":\"LinearAxis\"}],\"renderers\":[{\"id\":\"1170\",\"type\":\"GlyphRenderer\"},{\"id\":\"1183\",\"type\":\"GlyphRenderer\"}],\"title\":{\"id\":\"1134\",\"type\":\"Title\"},\"toolbar\":{\"id\":\"1160\",\"type\":\"Toolbar\"},\"x_range\":{\"id\":\"1136\",\"type\":\"Range1d\"},\"x_scale\":{\"id\":\"1140\",\"type\":\"LinearScale\"},\"y_range\":{\"id\":\"1138\",\"type\":\"DataRange1d\"},\"y_scale\":{\"id\":\"1142\",\"type\":\"LinearScale\"}},\"id\":\"1133\",\"subtype\":\"Figure\",\"type\":\"Plot\"},{\"attributes\":{\"bottom\":{\"value\":0},\"fill_color\":{\"value\":\"#1f77b4\"},\"left\":{\"field\":\"left\"},\"right\":{\"field\":\"right\"},\"top\":{\"field\":\"top\"}},\"id\":\"1168\",\"type\":\"Quad\"},{\"attributes\":{\"bottom\":{\"value\":0},\"fill_alpha\":{\"value\":0.1},\"fill_color\":{\"value\":\"#1f77b4\"},\"left\":{\"field\":\"left\"},\"line_alpha\":{\"value\":0.1},\"line_color\":{\"value\":\"#1f77b4\"},\"right\":{\"field\":\"right\"},\"top\":{\"field\":\"top\"}},\"id\":\"1169\",\"type\":\"Quad\"},{\"attributes\":{\"items\":[{\"id\":\"1179\",\"type\":\"LegendItem\"},{\"id\":\"1193\",\"type\":\"LegendItem\"}]},\"id\":\"1178\",\"type\":\"Legend\"},{\"attributes\":{\"callback\":null},\"id\":\"1138\",\"type\":\"DataRange1d\"},{\"attributes\":{},\"id\":\"1150\",\"type\":\"BasicTicker\"},{\"attributes\":{\"data_source\":{\"id\":\"1180\",\"type\":\"ColumnDataSource\"},\"glyph\":{\"id\":\"1181\",\"type\":\"Quad\"},\"hover_glyph\":null,\"muted_glyph\":null,\"nonselection_glyph\":{\"id\":\"1182\",\"type\":\"Quad\"},\"selection_glyph\":null,\"view\":{\"id\":\"1184\",\"type\":\"CDSView\"}},\"id\":\"1183\",\"type\":\"GlyphRenderer\"},{\"attributes\":{},\"id\":\"1140\",\"type\":\"LinearScale\"},{\"attributes\":{\"dimension\":1,\"ticker\":{\"id\":\"1150\",\"type\":\"BasicTicker\"}},\"id\":\"1153\",\"type\":\"Grid\"},{\"attributes\":{\"label\":{\"value\":\"GT0_RD_CN\"},\"renderers\":[{\"id\":\"1170\",\"type\":\"GlyphRenderer\"}]},\"id\":\"1179\",\"type\":\"LegendItem\"},{\"attributes\":{},\"id\":\"1158\",\"type\":\"ResetTool\"},{\"attributes\":{\"callback\":null,\"end\":10.5,\"start\":-0.5},\"id\":\"1136\",\"type\":\"Range1d\"},{\"attributes\":{\"overlay\":{\"id\":\"1177\",\"type\":\"BoxAnnotation\"}},\"id\":\"1156\",\"type\":\"BoxZoomTool\"},{\"attributes\":{\"source\":{\"id\":\"1167\",\"type\":\"ColumnDataSource\"}},\"id\":\"1171\",\"type\":\"CDSView\"},{\"attributes\":{\"active_drag\":\"auto\",\"active_inspect\":\"auto\",\"active_multi\":null,\"active_scroll\":\"auto\",\"active_tap\":\"auto\",\"tools\":[{\"id\":\"1154\",\"type\":\"PanTool\"},{\"id\":\"1155\",\"type\":\"WheelZoomTool\"},{\"id\":\"1156\",\"type\":\"BoxZoomTool\"},{\"id\":\"1157\",\"type\":\"SaveTool\"},{\"id\":\"1158\",\"type\":\"ResetTool\"},{\"id\":\"1159\",\"type\":\"HelpTool\"}]},\"id\":\"1160\",\"type\":\"Toolbar\"},{\"attributes\":{\"callback\":null,\"data\":{},\"selected\":{\"id\":\"1211\",\"type\":\"Selection\"},\"selection_policy\":{\"id\":\"1212\",\"type\":\"UnionRenderers\"}},\"id\":\"1180\",\"type\":\"ColumnDataSource\"},{\"attributes\":{\"data_source\":{\"id\":\"1167\",\"type\":\"ColumnDataSource\"},\"glyph\":{\"id\":\"1168\",\"type\":\"Quad\"},\"hover_glyph\":null,\"muted_glyph\":null,\"nonselection_glyph\":{\"id\":\"1169\",\"type\":\"Quad\"},\"selection_glyph\":null,\"view\":{\"id\":\"1171\",\"type\":\"CDSView\"}},\"id\":\"1170\",\"type\":\"GlyphRenderer\"},{\"attributes\":{\"source\":{\"id\":\"1180\",\"type\":\"ColumnDataSource\"}},\"id\":\"1184\",\"type\":\"CDSView\"},{\"attributes\":{},\"id\":\"1145\",\"type\":\"BasicTicker\"},{\"attributes\":{},\"id\":\"1159\",\"type\":\"HelpTool\"},{\"attributes\":{},\"id\":\"1190\",\"type\":\"Selection\"},{\"attributes\":{},\"id\":\"1155\",\"type\":\"WheelZoomTool\"},{\"attributes\":{\"text\":\"GT0_RD_CN Histogram\"},\"id\":\"1134\",\"type\":\"Title\"},{\"attributes\":{},\"id\":\"1212\",\"type\":\"UnionRenderers\"},{\"attributes\":{\"axis_label\":\"Frequency\",\"formatter\":{\"id\":\"1173\",\"type\":\"BasicTickFormatter\"},\"ticker\":{\"id\":\"1150\",\"type\":\"BasicTicker\"}},\"id\":\"1149\",\"type\":\"LinearAxis\"},{\"attributes\":{\"bottom\":{\"value\":0},\"fill_color\":{\"value\":\"green\"},\"left\":{\"value\":10.0},\"right\":{\"value\":10.909090909090908},\"top\":{\"value\":25124}},\"id\":\"1181\",\"type\":\"Quad\"},{\"attributes\":{},\"id\":\"1157\",\"type\":\"SaveTool\"},{\"attributes\":{\"bottom\":{\"value\":0},\"fill_alpha\":{\"value\":0.1},\"fill_color\":{\"value\":\"#1f77b4\"},\"left\":{\"value\":10.0},\"line_alpha\":{\"value\":0.1},\"line_color\":{\"value\":\"#1f77b4\"},\"right\":{\"value\":10.909090909090908},\"top\":{\"value\":25124}},\"id\":\"1182\",\"type\":\"Quad\"},{\"attributes\":{},\"id\":\"1154\",\"type\":\"PanTool\"},{\"attributes\":{},\"id\":\"1175\",\"type\":\"BasicTickFormatter\"},{\"attributes\":{},\"id\":\"1191\",\"type\":\"UnionRenderers\"},{\"attributes\":{},\"id\":\"1173\",\"type\":\"BasicTickFormatter\"},{\"attributes\":{\"axis_label\":\"GT0_RD_CN\",\"formatter\":{\"id\":\"1175\",\"type\":\"BasicTickFormatter\"},\"ticker\":{\"id\":\"1145\",\"type\":\"BasicTicker\"}},\"id\":\"1144\",\"type\":\"LinearAxis\"},{\"attributes\":{\"label\":{\"value\":\"Outliers Above\"},\"renderers\":[{\"id\":\"1183\",\"type\":\"GlyphRenderer\"}]},\"id\":\"1193\",\"type\":\"LegendItem\"},{\"attributes\":{\"ticker\":{\"id\":\"1145\",\"type\":\"BasicTicker\"}},\"id\":\"1148\",\"type\":\"Grid\"},{\"attributes\":{\"callback\":null,\"data\":{\"left\":[0.0,0.9090909090909091,1.8181818181818181,2.727272727272727,3.6363636363636362,4.545454545454545,5.454545454545454,6.363636363636363,7.2727272727272725,8.181818181818182,9.09090909090909],\"right\":[0.9090909090909091,1.8181818181818181,2.727272727272727,3.6363636363636362,4.545454545454545,5.454545454545454,6.363636363636363,7.2727272727272725,8.181818181818182,9.09090909090909,10.0],\"top\":[8490,223817,3953419,199083,43557,20124,12082,7929,5431,4435,3683]},\"selected\":{\"id\":\"1190\",\"type\":\"Selection\"},\"selection_policy\":{\"id\":\"1191\",\"type\":\"UnionRenderers\"}},\"id\":\"1167\",\"type\":\"ColumnDataSource\"},{\"attributes\":{},\"id\":\"1211\",\"type\":\"Selection\"},{\"attributes\":{\"bottom_units\":\"screen\",\"fill_alpha\":{\"value\":0.5},\"fill_color\":{\"value\":\"lightgrey\"},\"left_units\":\"screen\",\"level\":\"overlay\",\"line_alpha\":{\"value\":1.0},\"line_color\":{\"value\":\"black\"},\"line_dash\":[4,4],\"line_width\":{\"value\":2},\"render_mode\":\"css\",\"right_units\":\"screen\",\"top_units\":\"screen\"},\"id\":\"1177\",\"type\":\"BoxAnnotation\"},{\"attributes\":{},\"id\":\"1142\",\"type\":\"LinearScale\"}],\"root_ids\":[\"1133\"]},\"title\":\"Bokeh Application\",\"version\":\"1.2.0\"}};\n",
       "  var render_items = [{\"docid\":\"e19e7727-56fe-4fbf-b700-b95994e798e4\",\"roots\":{\"1133\":\"20c01866-bee7-48f0-8938-54e04d78d39a\"}}];\n",
       "  root.Bokeh.embed.embed_items_notebook(docs_json, render_items);\n",
       "\n",
       "  }\n",
       "  if (root.Bokeh !== undefined) {\n",
       "    embed_document(root);\n",
       "  } else {\n",
       "    var attempts = 0;\n",
       "    var timer = setInterval(function(root) {\n",
       "      if (root.Bokeh !== undefined) {\n",
       "        embed_document(root);\n",
       "        clearInterval(timer);\n",
       "      }\n",
       "      attempts++;\n",
       "      if (attempts > 100) {\n",
       "        console.log(\"Bokeh: ERROR: Unable to run BokehJS code because BokehJS library is missing\");\n",
       "        clearInterval(timer);\n",
       "      }\n",
       "    }, 10, root)\n",
       "  }\n",
       "})(window);"
      ],
      "application/vnd.bokehjs_exec.v0+json": ""
     },
     "metadata": {
      "application/vnd.bokehjs_exec.v0+json": {
       "id": "1133"
      }
     },
     "output_type": "display_data"
    },
    {
     "data": {
      "text/html": [
       "\n",
       "\n",
       "\n",
       "\n",
       "\n",
       "\n",
       "  <div class=\"bk-root\" id=\"d77ff736-8b0e-4802-9f94-48fb5196fde0\" data-root-id=\"1274\"></div>\n"
      ]
     },
     "metadata": {},
     "output_type": "display_data"
    },
    {
     "data": {
      "application/javascript": [
       "(function(root) {\n",
       "  function embed_document(root) {\n",
       "    \n",
       "  var docs_json = {\"7f06a74c-b24a-45c3-84fc-9941c265392f\":{\"roots\":{\"references\":[{\"attributes\":{\"background_fill_color\":{\"value\":\"#EEEEEE\"},\"below\":[{\"id\":\"1285\",\"type\":\"LinearAxis\"}],\"center\":[{\"id\":\"1289\",\"type\":\"Grid\"},{\"id\":\"1294\",\"type\":\"Grid\"},{\"id\":\"1319\",\"type\":\"Legend\"}],\"left\":[{\"id\":\"1290\",\"type\":\"LinearAxis\"}],\"renderers\":[{\"id\":\"1311\",\"type\":\"GlyphRenderer\"},{\"id\":\"1324\",\"type\":\"GlyphRenderer\"}],\"title\":{\"id\":\"1275\",\"type\":\"Title\"},\"toolbar\":{\"id\":\"1301\",\"type\":\"Toolbar\"},\"x_range\":{\"id\":\"1277\",\"type\":\"Range1d\"},\"x_scale\":{\"id\":\"1281\",\"type\":\"LinearScale\"},\"y_range\":{\"id\":\"1279\",\"type\":\"DataRange1d\"},\"y_scale\":{\"id\":\"1283\",\"type\":\"LinearScale\"}},\"id\":\"1274\",\"subtype\":\"Figure\",\"type\":\"Plot\"},{\"attributes\":{\"text\":\"GT1_RD_CN Histogram\"},\"id\":\"1275\",\"type\":\"Title\"},{\"attributes\":{\"bottom_units\":\"screen\",\"fill_alpha\":{\"value\":0.5},\"fill_color\":{\"value\":\"lightgrey\"},\"left_units\":\"screen\",\"level\":\"overlay\",\"line_alpha\":{\"value\":1.0},\"line_color\":{\"value\":\"black\"},\"line_dash\":[4,4],\"line_width\":{\"value\":2},\"render_mode\":\"css\",\"right_units\":\"screen\",\"top_units\":\"screen\"},\"id\":\"1318\",\"type\":\"BoxAnnotation\"},{\"attributes\":{\"ticker\":{\"id\":\"1286\",\"type\":\"BasicTicker\"}},\"id\":\"1289\",\"type\":\"Grid\"},{\"attributes\":{\"label\":{\"value\":\"GT1_RD_CN\"},\"renderers\":[{\"id\":\"1311\",\"type\":\"GlyphRenderer\"}]},\"id\":\"1320\",\"type\":\"LegendItem\"},{\"attributes\":{\"axis_label\":\"Frequency\",\"formatter\":{\"id\":\"1314\",\"type\":\"BasicTickFormatter\"},\"ticker\":{\"id\":\"1291\",\"type\":\"BasicTicker\"}},\"id\":\"1290\",\"type\":\"LinearAxis\"},{\"attributes\":{\"bottom\":{\"value\":0},\"fill_color\":{\"value\":\"green\"},\"left\":{\"value\":10.0},\"right\":{\"value\":10.909090909090908},\"top\":{\"value\":7029}},\"id\":\"1322\",\"type\":\"Quad\"},{\"attributes\":{\"data_source\":{\"id\":\"1308\",\"type\":\"ColumnDataSource\"},\"glyph\":{\"id\":\"1309\",\"type\":\"Quad\"},\"hover_glyph\":null,\"muted_glyph\":null,\"nonselection_glyph\":{\"id\":\"1310\",\"type\":\"Quad\"},\"selection_glyph\":null,\"view\":{\"id\":\"1312\",\"type\":\"CDSView\"}},\"id\":\"1311\",\"type\":\"GlyphRenderer\"},{\"attributes\":{\"data_source\":{\"id\":\"1321\",\"type\":\"ColumnDataSource\"},\"glyph\":{\"id\":\"1322\",\"type\":\"Quad\"},\"hover_glyph\":null,\"muted_glyph\":null,\"nonselection_glyph\":{\"id\":\"1323\",\"type\":\"Quad\"},\"selection_glyph\":null,\"view\":{\"id\":\"1325\",\"type\":\"CDSView\"}},\"id\":\"1324\",\"type\":\"GlyphRenderer\"},{\"attributes\":{},\"id\":\"1298\",\"type\":\"SaveTool\"},{\"attributes\":{\"source\":{\"id\":\"1321\",\"type\":\"ColumnDataSource\"}},\"id\":\"1325\",\"type\":\"CDSView\"},{\"attributes\":{},\"id\":\"1316\",\"type\":\"BasicTickFormatter\"},{\"attributes\":{},\"id\":\"1362\",\"type\":\"Selection\"},{\"attributes\":{},\"id\":\"1314\",\"type\":\"BasicTickFormatter\"},{\"attributes\":{\"axis_label\":\"GT1_RD_CN\",\"formatter\":{\"id\":\"1316\",\"type\":\"BasicTickFormatter\"},\"ticker\":{\"id\":\"1286\",\"type\":\"BasicTicker\"}},\"id\":\"1285\",\"type\":\"LinearAxis\"},{\"attributes\":{\"callback\":null,\"data\":{},\"selected\":{\"id\":\"1362\",\"type\":\"Selection\"},\"selection_policy\":{\"id\":\"1363\",\"type\":\"UnionRenderers\"}},\"id\":\"1321\",\"type\":\"ColumnDataSource\"},{\"attributes\":{\"overlay\":{\"id\":\"1318\",\"type\":\"BoxAnnotation\"}},\"id\":\"1297\",\"type\":\"BoxZoomTool\"},{\"attributes\":{\"active_drag\":\"auto\",\"active_inspect\":\"auto\",\"active_multi\":null,\"active_scroll\":\"auto\",\"active_tap\":\"auto\",\"tools\":[{\"id\":\"1295\",\"type\":\"PanTool\"},{\"id\":\"1296\",\"type\":\"WheelZoomTool\"},{\"id\":\"1297\",\"type\":\"BoxZoomTool\"},{\"id\":\"1298\",\"type\":\"SaveTool\"},{\"id\":\"1299\",\"type\":\"ResetTool\"},{\"id\":\"1300\",\"type\":\"HelpTool\"}]},\"id\":\"1301\",\"type\":\"Toolbar\"},{\"attributes\":{},\"id\":\"1281\",\"type\":\"LinearScale\"},{\"attributes\":{\"callback\":null,\"data\":{\"left\":[0.0,0.9090909090909091,1.8181818181818181,2.727272727272727,3.6363636363636362,4.545454545454545,5.454545454545454,6.363636363636363,7.2727272727272725,8.181818181818182,9.09090909090909],\"right\":[0.9090909090909091,1.8181818181818181,2.727272727272727,3.6363636363636362,4.545454545454545,5.454545454545454,6.363636363636363,7.2727272727272725,8.181818181818182,9.09090909090909,10.0],\"top\":[14630,166020,206596,108528,22531,7503,3832,2535,1809,1244,914]},\"selected\":{\"id\":\"1331\",\"type\":\"Selection\"},\"selection_policy\":{\"id\":\"1332\",\"type\":\"UnionRenderers\"}},\"id\":\"1308\",\"type\":\"ColumnDataSource\"},{\"attributes\":{\"label\":{\"value\":\"Outliers Above\"},\"renderers\":[{\"id\":\"1324\",\"type\":\"GlyphRenderer\"}]},\"id\":\"1334\",\"type\":\"LegendItem\"},{\"attributes\":{\"bottom\":{\"value\":0},\"fill_color\":{\"value\":\"#1f77b4\"},\"left\":{\"field\":\"left\"},\"right\":{\"field\":\"right\"},\"top\":{\"field\":\"top\"}},\"id\":\"1309\",\"type\":\"Quad\"},{\"attributes\":{},\"id\":\"1331\",\"type\":\"Selection\"},{\"attributes\":{},\"id\":\"1296\",\"type\":\"WheelZoomTool\"},{\"attributes\":{},\"id\":\"1283\",\"type\":\"LinearScale\"},{\"attributes\":{},\"id\":\"1286\",\"type\":\"BasicTicker\"},{\"attributes\":{},\"id\":\"1332\",\"type\":\"UnionRenderers\"},{\"attributes\":{},\"id\":\"1295\",\"type\":\"PanTool\"},{\"attributes\":{},\"id\":\"1363\",\"type\":\"UnionRenderers\"},{\"attributes\":{\"callback\":null},\"id\":\"1279\",\"type\":\"DataRange1d\"},{\"attributes\":{\"dimension\":1,\"ticker\":{\"id\":\"1291\",\"type\":\"BasicTicker\"}},\"id\":\"1294\",\"type\":\"Grid\"},{\"attributes\":{\"bottom\":{\"value\":0},\"fill_alpha\":{\"value\":0.1},\"fill_color\":{\"value\":\"#1f77b4\"},\"left\":{\"field\":\"left\"},\"line_alpha\":{\"value\":0.1},\"line_color\":{\"value\":\"#1f77b4\"},\"right\":{\"field\":\"right\"},\"top\":{\"field\":\"top\"}},\"id\":\"1310\",\"type\":\"Quad\"},{\"attributes\":{\"items\":[{\"id\":\"1320\",\"type\":\"LegendItem\"},{\"id\":\"1334\",\"type\":\"LegendItem\"}]},\"id\":\"1319\",\"type\":\"Legend\"},{\"attributes\":{},\"id\":\"1300\",\"type\":\"HelpTool\"},{\"attributes\":{\"source\":{\"id\":\"1308\",\"type\":\"ColumnDataSource\"}},\"id\":\"1312\",\"type\":\"CDSView\"},{\"attributes\":{},\"id\":\"1291\",\"type\":\"BasicTicker\"},{\"attributes\":{\"callback\":null,\"end\":10.5,\"start\":-0.5},\"id\":\"1277\",\"type\":\"Range1d\"},{\"attributes\":{},\"id\":\"1299\",\"type\":\"ResetTool\"},{\"attributes\":{\"bottom\":{\"value\":0},\"fill_alpha\":{\"value\":0.1},\"fill_color\":{\"value\":\"#1f77b4\"},\"left\":{\"value\":10.0},\"line_alpha\":{\"value\":0.1},\"line_color\":{\"value\":\"#1f77b4\"},\"right\":{\"value\":10.909090909090908},\"top\":{\"value\":7029}},\"id\":\"1323\",\"type\":\"Quad\"}],\"root_ids\":[\"1274\"]},\"title\":\"Bokeh Application\",\"version\":\"1.2.0\"}};\n",
       "  var render_items = [{\"docid\":\"7f06a74c-b24a-45c3-84fc-9941c265392f\",\"roots\":{\"1274\":\"d77ff736-8b0e-4802-9f94-48fb5196fde0\"}}];\n",
       "  root.Bokeh.embed.embed_items_notebook(docs_json, render_items);\n",
       "\n",
       "  }\n",
       "  if (root.Bokeh !== undefined) {\n",
       "    embed_document(root);\n",
       "  } else {\n",
       "    var attempts = 0;\n",
       "    var timer = setInterval(function(root) {\n",
       "      if (root.Bokeh !== undefined) {\n",
       "        embed_document(root);\n",
       "        clearInterval(timer);\n",
       "      }\n",
       "      attempts++;\n",
       "      if (attempts > 100) {\n",
       "        console.log(\"Bokeh: ERROR: Unable to run BokehJS code because BokehJS library is missing\");\n",
       "        clearInterval(timer);\n",
       "      }\n",
       "    }, 10, root)\n",
       "  }\n",
       "})(window);"
      ],
      "application/vnd.bokehjs_exec.v0+json": ""
     },
     "metadata": {
      "application/vnd.bokehjs_exec.v0+json": {
       "id": "1274"
      }
     },
     "output_type": "display_data"
    },
    {
     "data": {
      "text/html": [
       "\n",
       "\n",
       "\n",
       "\n",
       "\n",
       "\n",
       "  <div class=\"bk-root\" id=\"a25f732c-067c-40d8-9189-733288f36adc\" data-root-id=\"1425\"></div>\n"
      ]
     },
     "metadata": {},
     "output_type": "display_data"
    },
    {
     "data": {
      "application/javascript": [
       "(function(root) {\n",
       "  function embed_document(root) {\n",
       "    \n",
       "  var docs_json = {\"64d4f530-40dd-484e-99b6-c1a2db68392c\":{\"roots\":{\"references\":[{\"attributes\":{\"background_fill_color\":{\"value\":\"#EEEEEE\"},\"below\":[{\"id\":\"1436\",\"type\":\"LinearAxis\"}],\"center\":[{\"id\":\"1440\",\"type\":\"Grid\"},{\"id\":\"1445\",\"type\":\"Grid\"},{\"id\":\"1470\",\"type\":\"Legend\"}],\"left\":[{\"id\":\"1441\",\"type\":\"LinearAxis\"}],\"renderers\":[{\"id\":\"1462\",\"type\":\"GlyphRenderer\"},{\"id\":\"1475\",\"type\":\"GlyphRenderer\"}],\"title\":{\"id\":\"1426\",\"type\":\"Title\"},\"toolbar\":{\"id\":\"1452\",\"type\":\"Toolbar\"},\"x_range\":{\"id\":\"1428\",\"type\":\"Range1d\"},\"x_scale\":{\"id\":\"1432\",\"type\":\"LinearScale\"},\"y_range\":{\"id\":\"1430\",\"type\":\"DataRange1d\"},\"y_scale\":{\"id\":\"1434\",\"type\":\"LinearScale\"}},\"id\":\"1425\",\"subtype\":\"Figure\",\"type\":\"Plot\"},{\"attributes\":{},\"id\":\"1467\",\"type\":\"BasicTickFormatter\"},{\"attributes\":{},\"id\":\"1447\",\"type\":\"WheelZoomTool\"},{\"attributes\":{\"bottom\":{\"value\":0},\"fill_alpha\":{\"value\":0.1},\"fill_color\":{\"value\":\"#1f77b4\"},\"left\":{\"value\":10.0},\"line_alpha\":{\"value\":0.1},\"line_color\":{\"value\":\"#1f77b4\"},\"right\":{\"value\":10.909090909090908},\"top\":{\"value\":6922}},\"id\":\"1474\",\"type\":\"Quad\"},{\"attributes\":{},\"id\":\"1465\",\"type\":\"BasicTickFormatter\"},{\"attributes\":{},\"id\":\"1449\",\"type\":\"SaveTool\"},{\"attributes\":{\"data_source\":{\"id\":\"1472\",\"type\":\"ColumnDataSource\"},\"glyph\":{\"id\":\"1473\",\"type\":\"Quad\"},\"hover_glyph\":null,\"muted_glyph\":null,\"nonselection_glyph\":{\"id\":\"1474\",\"type\":\"Quad\"},\"selection_glyph\":null,\"view\":{\"id\":\"1476\",\"type\":\"CDSView\"}},\"id\":\"1475\",\"type\":\"GlyphRenderer\"},{\"attributes\":{\"active_drag\":\"auto\",\"active_inspect\":\"auto\",\"active_multi\":null,\"active_scroll\":\"auto\",\"active_tap\":\"auto\",\"tools\":[{\"id\":\"1446\",\"type\":\"PanTool\"},{\"id\":\"1447\",\"type\":\"WheelZoomTool\"},{\"id\":\"1448\",\"type\":\"BoxZoomTool\"},{\"id\":\"1449\",\"type\":\"SaveTool\"},{\"id\":\"1450\",\"type\":\"ResetTool\"},{\"id\":\"1451\",\"type\":\"HelpTool\"}]},\"id\":\"1452\",\"type\":\"Toolbar\"},{\"attributes\":{\"source\":{\"id\":\"1459\",\"type\":\"ColumnDataSource\"}},\"id\":\"1463\",\"type\":\"CDSView\"},{\"attributes\":{\"source\":{\"id\":\"1472\",\"type\":\"ColumnDataSource\"}},\"id\":\"1476\",\"type\":\"CDSView\"},{\"attributes\":{\"data_source\":{\"id\":\"1459\",\"type\":\"ColumnDataSource\"},\"glyph\":{\"id\":\"1460\",\"type\":\"Quad\"},\"hover_glyph\":null,\"muted_glyph\":null,\"nonselection_glyph\":{\"id\":\"1461\",\"type\":\"Quad\"},\"selection_glyph\":null,\"view\":{\"id\":\"1463\",\"type\":\"CDSView\"}},\"id\":\"1462\",\"type\":\"GlyphRenderer\"},{\"attributes\":{},\"id\":\"1482\",\"type\":\"Selection\"},{\"attributes\":{},\"id\":\"1432\",\"type\":\"LinearScale\"},{\"attributes\":{},\"id\":\"1446\",\"type\":\"PanTool\"},{\"attributes\":{},\"id\":\"1483\",\"type\":\"UnionRenderers\"},{\"attributes\":{\"overlay\":{\"id\":\"1469\",\"type\":\"BoxAnnotation\"}},\"id\":\"1448\",\"type\":\"BoxZoomTool\"},{\"attributes\":{\"label\":{\"value\":\"Outliers Above\"},\"renderers\":[{\"id\":\"1475\",\"type\":\"GlyphRenderer\"}]},\"id\":\"1485\",\"type\":\"LegendItem\"},{\"attributes\":{\"dimension\":1,\"ticker\":{\"id\":\"1442\",\"type\":\"BasicTicker\"}},\"id\":\"1445\",\"type\":\"Grid\"},{\"attributes\":{\"bottom\":{\"value\":0},\"fill_color\":{\"value\":\"#1f77b4\"},\"left\":{\"field\":\"left\"},\"right\":{\"field\":\"right\"},\"top\":{\"field\":\"top\"}},\"id\":\"1460\",\"type\":\"Quad\"},{\"attributes\":{},\"id\":\"1434\",\"type\":\"LinearScale\"},{\"attributes\":{\"callback\":null,\"data\":{},\"selected\":{\"id\":\"1523\",\"type\":\"Selection\"},\"selection_policy\":{\"id\":\"1524\",\"type\":\"UnionRenderers\"}},\"id\":\"1472\",\"type\":\"ColumnDataSource\"},{\"attributes\":{},\"id\":\"1523\",\"type\":\"Selection\"},{\"attributes\":{\"bottom_units\":\"screen\",\"fill_alpha\":{\"value\":0.5},\"fill_color\":{\"value\":\"lightgrey\"},\"left_units\":\"screen\",\"level\":\"overlay\",\"line_alpha\":{\"value\":1.0},\"line_color\":{\"value\":\"black\"},\"line_dash\":[4,4],\"line_width\":{\"value\":2},\"render_mode\":\"css\",\"right_units\":\"screen\",\"top_units\":\"screen\"},\"id\":\"1469\",\"type\":\"BoxAnnotation\"},{\"attributes\":{},\"id\":\"1524\",\"type\":\"UnionRenderers\"},{\"attributes\":{\"axis_label\":\"GT2_RD_CN\",\"formatter\":{\"id\":\"1467\",\"type\":\"BasicTickFormatter\"},\"ticker\":{\"id\":\"1437\",\"type\":\"BasicTicker\"}},\"id\":\"1436\",\"type\":\"LinearAxis\"},{\"attributes\":{\"callback\":null},\"id\":\"1430\",\"type\":\"DataRange1d\"},{\"attributes\":{},\"id\":\"1450\",\"type\":\"ResetTool\"},{\"attributes\":{},\"id\":\"1451\",\"type\":\"HelpTool\"},{\"attributes\":{\"label\":{\"value\":\"GT2_RD_CN\"},\"renderers\":[{\"id\":\"1462\",\"type\":\"GlyphRenderer\"}]},\"id\":\"1471\",\"type\":\"LegendItem\"},{\"attributes\":{\"bottom\":{\"value\":0},\"fill_alpha\":{\"value\":0.1},\"fill_color\":{\"value\":\"#1f77b4\"},\"left\":{\"field\":\"left\"},\"line_alpha\":{\"value\":0.1},\"line_color\":{\"value\":\"#1f77b4\"},\"right\":{\"field\":\"right\"},\"top\":{\"field\":\"top\"}},\"id\":\"1461\",\"type\":\"Quad\"},{\"attributes\":{\"callback\":null,\"data\":{\"left\":[0.0,0.9090909090909091,1.8181818181818181,2.727272727272727,3.6363636363636362,4.545454545454545,5.454545454545454,6.363636363636363,7.2727272727272725,8.181818181818182,9.09090909090909],\"right\":[0.9090909090909091,1.8181818181818181,2.727272727272727,3.6363636363636362,4.545454545454545,5.454545454545454,6.363636363636363,7.2727272727272725,8.181818181818182,9.09090909090909,10.0],\"top\":[28011,35488,17482,7404,13055,4638,2129,1156,700,444,308]},\"selected\":{\"id\":\"1482\",\"type\":\"Selection\"},\"selection_policy\":{\"id\":\"1483\",\"type\":\"UnionRenderers\"}},\"id\":\"1459\",\"type\":\"ColumnDataSource\"},{\"attributes\":{},\"id\":\"1442\",\"type\":\"BasicTicker\"},{\"attributes\":{\"text\":\"GT2_RD_CN Histogram\"},\"id\":\"1426\",\"type\":\"Title\"},{\"attributes\":{\"callback\":null,\"end\":10.5,\"start\":-0.5},\"id\":\"1428\",\"type\":\"Range1d\"},{\"attributes\":{\"axis_label\":\"Frequency\",\"formatter\":{\"id\":\"1465\",\"type\":\"BasicTickFormatter\"},\"ticker\":{\"id\":\"1442\",\"type\":\"BasicTicker\"}},\"id\":\"1441\",\"type\":\"LinearAxis\"},{\"attributes\":{\"items\":[{\"id\":\"1471\",\"type\":\"LegendItem\"},{\"id\":\"1485\",\"type\":\"LegendItem\"}]},\"id\":\"1470\",\"type\":\"Legend\"},{\"attributes\":{},\"id\":\"1437\",\"type\":\"BasicTicker\"},{\"attributes\":{\"bottom\":{\"value\":0},\"fill_color\":{\"value\":\"green\"},\"left\":{\"value\":10.0},\"right\":{\"value\":10.909090909090908},\"top\":{\"value\":6922}},\"id\":\"1473\",\"type\":\"Quad\"},{\"attributes\":{\"ticker\":{\"id\":\"1437\",\"type\":\"BasicTicker\"}},\"id\":\"1440\",\"type\":\"Grid\"}],\"root_ids\":[\"1425\"]},\"title\":\"Bokeh Application\",\"version\":\"1.2.0\"}};\n",
       "  var render_items = [{\"docid\":\"64d4f530-40dd-484e-99b6-c1a2db68392c\",\"roots\":{\"1425\":\"a25f732c-067c-40d8-9189-733288f36adc\"}}];\n",
       "  root.Bokeh.embed.embed_items_notebook(docs_json, render_items);\n",
       "\n",
       "  }\n",
       "  if (root.Bokeh !== undefined) {\n",
       "    embed_document(root);\n",
       "  } else {\n",
       "    var attempts = 0;\n",
       "    var timer = setInterval(function(root) {\n",
       "      if (root.Bokeh !== undefined) {\n",
       "        embed_document(root);\n",
       "        clearInterval(timer);\n",
       "      }\n",
       "      attempts++;\n",
       "      if (attempts > 100) {\n",
       "        console.log(\"Bokeh: ERROR: Unable to run BokehJS code because BokehJS library is missing\");\n",
       "        clearInterval(timer);\n",
       "      }\n",
       "    }, 10, root)\n",
       "  }\n",
       "})(window);"
      ],
      "application/vnd.bokehjs_exec.v0+json": ""
     },
     "metadata": {
      "application/vnd.bokehjs_exec.v0+json": {
       "id": "1425"
      }
     },
     "output_type": "display_data"
    }
   ],
   "source": [
    "cnts={}\n",
    "mtx = mt2.filter_entries(hl.is_defined(mt2.RD_CN))\n",
    "for alts in range(3):\n",
    "    field_name = 'GT'+str(alts)+'_RD_CN'\n",
    "    mtx = mtx.annotate_entries(**{field_name: hl.if_else(mtx.GT.n_alt_alleles()==alts, mtx.RD_CN, -1)})\n",
    "    cnts = sorted(mtx.aggregate_entries(hl.agg.counter(mtx[field_name])).items())\n",
    "    cnts[11] = ('>9', sum(cnts[11:][1]))\n",
    "    print('{}: {}'.format(field_name, cnts[:12]))\n",
    "\n",
    "for field_name in ['GT0_RD_CN', 'GT1_RD_CN', 'GT2_RD_CN']:\n",
    "    mtxx = mtx.filter_entries(mtx[field_name]>=0)\n",
    "    dp_hist = mtxx.aggregate_entries(hl.expr.aggregators.hist(mtxx[field_name], start=0, end=10, bins=11))\n",
    "    p = hl.plot.histogram(dp_hist, legend=field_name, title=field_name+' Histogram')\n",
    "    show(p)"
   ]
  },
  {
   "cell_type": "code",
   "execution_count": 17,
   "metadata": {},
   "outputs": [
    {
     "name": "stdout",
     "output_type": "stream",
     "text": [
      "('RD_CN_0',\n",
      " [(Struct(alts=0, svtype='DUP'), 3171),\n",
      "  (Struct(alts=0, svtype='CPX'), 4),\n",
      "  (Struct(alts=0, svtype='INS'), 16),\n",
      "  (Struct(alts=0, svtype='DEL'), 5299),\n",
      "  (Struct(alts=1, svtype='DUP'), 116),\n",
      "  (Struct(alts=1, svtype='DEL'), 14487),\n",
      "  (Struct(alts=1, svtype='INS'), 27),\n",
      "  (Struct(alts=2, svtype='DUP'), 8),\n",
      "  (Struct(alts=2, svtype='DEL'), 28002),\n",
      "  (Struct(alts=2, svtype='CPX'), 1)])\n",
      "('RD_CN_1',\n",
      " [(Struct(alts=0, svtype='DUP'), 86321),\n",
      "  (Struct(alts=0, svtype='CPX'), 191),\n",
      "  (Struct(alts=0, svtype='INS'), 402),\n",
      "  (Struct(alts=0, svtype='DEL'), 136903),\n",
      "  (Struct(alts=1, svtype='DUP'), 2011),\n",
      "  (Struct(alts=1, svtype='DEL'), 163754),\n",
      "  (Struct(alts=1, svtype='CPX'), 43),\n",
      "  (Struct(alts=1, svtype='INS'), 212),\n",
      "  (Struct(alts=2, svtype='DUP'), 11),\n",
      "  (Struct(alts=2, svtype='DEL'), 35471),\n",
      "  (Struct(alts=2, svtype='INS'), 6)])\n",
      "('RD_CN_2',\n",
      " [(Struct(alts=0, svtype='DUP'), 2231604),\n",
      "  (Struct(alts=0, svtype='CPX'), 2290),\n",
      "  (Struct(alts=0, svtype='INS'), 6123),\n",
      "  (Struct(alts=0, svtype='DEL'), 1713402),\n",
      "  (Struct(alts=1, svtype='DUP'), 36460),\n",
      "  (Struct(alts=1, svtype='DEL'), 167661),\n",
      "  (Struct(alts=1, svtype='CPX'), 686),\n",
      "  (Struct(alts=1, svtype='INS'), 1789),\n",
      "  (Struct(alts=2, svtype='DUP'), 690),\n",
      "  (Struct(alts=2, svtype='DEL'), 16334),\n",
      "  (Struct(alts=2, svtype='CPX'), 89),\n",
      "  (Struct(alts=2, svtype='INS'), 369)])\n",
      "('RD_CN_3',\n",
      " [(Struct(alts=0, svtype='DUP'), 54186),\n",
      "  (Struct(alts=0, svtype='CPX'), 130),\n",
      "  (Struct(alts=0, svtype='INS'), 391),\n",
      "  (Struct(alts=0, svtype='DEL'), 144376),\n",
      "  (Struct(alts=1, svtype='DUP'), 86306),\n",
      "  (Struct(alts=1, svtype='DEL'), 21777),\n",
      "  (Struct(alts=1, svtype='CPX'), 58),\n",
      "  (Struct(alts=1, svtype='INS'), 387),\n",
      "  (Struct(alts=2, svtype='DUP'), 4095),\n",
      "  (Struct(alts=2, svtype='DEL'), 3287),\n",
      "  (Struct(alts=2, svtype='CPX'), 1),\n",
      "  (Struct(alts=2, svtype='INS'), 21)])\n",
      "('RD_CN_4',\n",
      " [(Struct(alts=0, svtype='DUP'), 12710),\n",
      "  (Struct(alts=0, svtype='CPX'), 8),\n",
      "  (Struct(alts=0, svtype='INS'), 36),\n",
      "  (Struct(alts=0, svtype='DEL'), 30803),\n",
      "  (Struct(alts=1, svtype='DUP'), 16483),\n",
      "  (Struct(alts=1, svtype='DEL'), 5816),\n",
      "  (Struct(alts=1, svtype='CPX'), 55),\n",
      "  (Struct(alts=1, svtype='INS'), 177),\n",
      "  (Struct(alts=2, svtype='DUP'), 12194),\n",
      "  (Struct(alts=2, svtype='DEL'), 848),\n",
      "  (Struct(alts=2, svtype='INS'), 13)])\n",
      "('RD_CN_5',\n",
      " [(Struct(alts=0, svtype='DUP'), 5594),\n",
      "  (Struct(alts=0, svtype='CPX'), 1),\n",
      "  (Struct(alts=0, svtype='INS'), 25),\n",
      "  (Struct(alts=0, svtype='DEL'), 14504),\n",
      "  (Struct(alts=1, svtype='DUP'), 4874),\n",
      "  (Struct(alts=1, svtype='DEL'), 2481),\n",
      "  (Struct(alts=1, svtype='CPX'), 72),\n",
      "  (Struct(alts=1, svtype='INS'), 76),\n",
      "  (Struct(alts=2, svtype='DUP'), 4213),\n",
      "  (Struct(alts=2, svtype='DEL'), 413),\n",
      "  (Struct(alts=2, svtype='INS'), 12)])\n",
      "('RD_CN_6',\n",
      " [(Struct(alts=0, svtype='DUP'), 3327),\n",
      "  (Struct(alts=0, svtype='INS'), 13),\n",
      "  (Struct(alts=0, svtype='DEL'), 8742),\n",
      "  (Struct(alts=1, svtype='DUP'), 2323),\n",
      "  (Struct(alts=1, svtype='DEL'), 1438),\n",
      "  (Struct(alts=1, svtype='CPX'), 38),\n",
      "  (Struct(alts=1, svtype='INS'), 33),\n",
      "  (Struct(alts=2, svtype='DUP'), 1838),\n",
      "  (Struct(alts=2, svtype='DEL'), 263),\n",
      "  (Struct(alts=2, svtype='INS'), 28)])\n",
      "('RD_CN_7',\n",
      " [(Struct(alts=0, svtype='DUP'), 2127),\n",
      "  (Struct(alts=0, svtype='INS'), 6),\n",
      "  (Struct(alts=0, svtype='DEL'), 5796),\n",
      "  (Struct(alts=1, svtype='DUP'), 1453),\n",
      "  (Struct(alts=1, svtype='DEL'), 1046),\n",
      "  (Struct(alts=1, svtype='CPX'), 11),\n",
      "  (Struct(alts=1, svtype='INS'), 25),\n",
      "  (Struct(alts=2, svtype='DUP'), 917),\n",
      "  (Struct(alts=2, svtype='DEL'), 231),\n",
      "  (Struct(alts=2, svtype='INS'), 8)])\n",
      "('RD_CN_8',\n",
      " [(Struct(alts=0, svtype='DUP'), 1558),\n",
      "  (Struct(alts=0, svtype='INS'), 8),\n",
      "  (Struct(alts=0, svtype='DEL'), 3865),\n",
      "  (Struct(alts=1, svtype='DUP'), 990),\n",
      "  (Struct(alts=1, svtype='DEL'), 791),\n",
      "  (Struct(alts=1, svtype='CPX'), 5),\n",
      "  (Struct(alts=1, svtype='INS'), 23),\n",
      "  (Struct(alts=2, svtype='DUP'), 541),\n",
      "  (Struct(alts=2, svtype='DEL'), 154),\n",
      "  (Struct(alts=2, svtype='INS'), 5)])\n",
      "('RD_CN_9',\n",
      " [(Struct(alts=0, svtype='DUP'), 1273),\n",
      "  (Struct(alts=0, svtype='CPX'), 1),\n",
      "  (Struct(alts=0, svtype='INS'), 6),\n",
      "  (Struct(alts=0, svtype='DEL'), 3155),\n",
      "  (Struct(alts=1, svtype='DUP'), 616),\n",
      "  (Struct(alts=1, svtype='DEL'), 603),\n",
      "  (Struct(alts=1, svtype='CPX'), 6),\n",
      "  (Struct(alts=1, svtype='INS'), 19),\n",
      "  (Struct(alts=2, svtype='DUP'), 359),\n",
      "  (Struct(alts=2, svtype='DEL'), 85)])\n",
      "('RD_CN_gt_9',\n",
      " [(Struct(alts=0, svtype='DUP'), 8263),\n",
      "  (Struct(alts=0, svtype='CPX'), 4),\n",
      "  (Struct(alts=0, svtype='INS'), 11),\n",
      "  (Struct(alts=0, svtype='DEL'), 20529),\n",
      "  (Struct(alts=1, svtype='DUP'), 2602),\n",
      "  (Struct(alts=1, svtype='DEL'), 5134),\n",
      "  (Struct(alts=1, svtype='CPX'), 37),\n",
      "  (Struct(alts=1, svtype='INS'), 170),\n",
      "  (Struct(alts=2, svtype='DUP'), 2999),\n",
      "  (Struct(alts=2, svtype='DEL'), 4136),\n",
      "  (Struct(alts=2, svtype='CPX'), 85),\n",
      "  (Struct(alts=2, svtype='INS'), 10)])\n"
     ]
    }
   ],
   "source": [
    "mtx = mt2.filter_entries(hl.is_defined(mt2.RD_CN))\n",
    "for cn in range(10):\n",
    "    field_name = 'RD_CN_{}'.format(cn)\n",
    "    mtx = mtx.annotate_entries(**{field_name: hl.if_else(mtx.RD_CN==cn, hl.struct(alts=mtx.GT.n_alt_alleles(), svtype=mtx.info.SVTYPE),\n",
    "                                                         hl.struct(alts=-1, svtype='NA'))})\n",
    "    cnts = mtx.aggregate_entries(hl.agg.counter(mtx[field_name]))\n",
    "    cnts = sorted(cnts.items(), key=lambda item: item[0].alts)\n",
    "    pprint((field_name, cnts[1:]))\n",
    "\n",
    "mtx = mtx.annotate_entries(**{'RD_CN_gt_9': hl.if_else(mtx.RD_CN>9, hl.struct(alts=mtx.GT.n_alt_alleles(), svtype=mtx.info.SVTYPE),\n",
    "                                                         hl.struct(alts=-1, svtype='NA'))})\n",
    "cnts = mtx.aggregate_entries(hl.agg.counter(mtx.RD_CN_gt_9))\n",
    "cnts = sorted(cnts.items(), key=lambda item: item[0].alts)\n",
    "pprint(('RD_CN_gt_9', cnts[1:]))"
   ]
  },
  {
   "cell_type": "code",
   "execution_count": null,
   "metadata": {},
   "outputs": [],
   "source": []
  }
 ],
 "metadata": {
  "kernelspec": {
   "display_name": "Python 3",
   "language": "python",
   "name": "python3"
  },
  "language_info": {
   "codemirror_mode": {
    "name": "ipython",
    "version": 3
   },
   "file_extension": ".py",
   "mimetype": "text/x-python",
   "name": "python",
   "nbconvert_exporter": "python",
   "pygments_lexer": "ipython3",
   "version": "3.7.3"
  }
 },
 "nbformat": 4,
 "nbformat_minor": 2
}
